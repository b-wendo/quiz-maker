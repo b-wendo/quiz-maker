{
 "cells": [
  {
   "cell_type": "markdown",
   "id": "d70598db-1563-4298-91db-c7056cce72f0",
   "metadata": {},
   "source": [
    "# RITA Africa April 2025 Bootcamp Capstone Project\n",
    "## Quiz Maker & Grader\n",
    "\n",
    "A Python program that allows an Admin to set multiple-choice quiz questions, and Students can take the quiz, view their score, and store it for record-keeping."
   ]
  },
  {
   "cell_type": "code",
   "execution_count": 1,
   "id": "ac4607ff-2e1a-427e-896c-93e4717188c8",
   "metadata": {},
   "outputs": [],
   "source": [
    "# Dictionary storing Python quiz questions, options, and correct answers\n",
    "\n",
    "quiz_questions = {\n",
    "    \"What is the correct file extension for Python files?\": {\n",
    "        \"options\": [\"A. .pt\", \"B. .py\", \"C. .python\",  \"D. .pyt\" ],\n",
    "        \"answer\": \"B\"\n",
    "        \n",
    "    },\n",
    "    \"What will be the output for print(type([]))?\": {\n",
    "        \"options\": [\"A. <class 'list'>\", \"B. <type 'list'>\",  \"C. list\", \"D. type list\"],\n",
    "        \"answer\": \"A\"\n",
    "    \n",
    "    },\n",
    "    \"Which key word is used to create a function in Python?\": {\n",
    "        \"options\": [ \"A. func\",  \"B. define\", \"C. def\",  \"D. function\" ],\n",
    "        \"answer\": \"C\"\n",
    "        \n",
    "    },\n",
    "    \"Which of the following is a valid Python variable?\": {\n",
    "        \"options\": [ \"A. 2variable\", \"B. variable_name\", \"C. variable-name\",  \"D. variable name\"],\n",
    "        \"answer\": \"B\"\n",
    "        \n",
    "    },\n",
    "    \"What will be the output for len(bootcamp)?\": {\n",
    "        \"options\": [ \"A. 8\", \"B. False\", \"C. True\", \"D. 10\"],\n",
    "        \"answer\": \"A\"      \n",
    "        \n",
    "    },\n",
    "    \"Which operator is used for exponentiation in Python?\":{\n",
    "        \"options\": [  \"A. >\", \"B. **\", \"C. //\", \"D. %\"],    \n",
    "        \"answer\": \"B\"\n",
    "    },\n",
    "    \"What will print(3 == '3') return?\": {\n",
    "        \"options\": [\"A. True\",  \"B. False\", \"C. None\", \"D. Error\" ],  \n",
    "        \"answer\": \"B\"\n",
    "        \n",
    "    },\n",
    "    \"What is the result of bool(\"\")?\": {\n",
    "        \"options\": [ \"A. True\",  \"B. False\", \"C. None\",  \"D. bool\"],\n",
    "        \"answer\": \"B\"\n",
    "        \n",
    "    },\n",
    "    \"Which of the following is not a Python data type?\": {\n",
    "        \"options\": [  \"A. list\",  \"B. str\", \"C. map\",  \"D. tuple\" ],\n",
    "        \"answer\": \"C\"\n",
    "        \n",
    "    },\n",
    "    \"Which is the correct way to write a comment in Python?\": {\n",
    "        \"options\": [ \"A. <!--comment-->\", \"B. // comment\",  \"C. # comment\", \"D. /* comment */\"],\n",
    "        \"answer\": \"C\"\n",
    "        \n",
    "    }\n",
    "}"
   ]
  },
  {
   "cell_type": "code",
   "execution_count": 2,
   "id": "645c4b9c-b0dc-4f6a-a535-e089c4e0dd61",
   "metadata": {},
   "outputs": [],
   "source": [
    "\n",
    "# Function to allow admin to add custom questions, options and the correct answer to the quiz\n",
    "def add_custom_questions():\n",
    "    print(\"\\n📝 Add Your Own Questions (type 'done' to stop)\\n\")\n",
    "    while True:\n",
    "        question = input(\"Enter your question (or type 'done' to finish): \")\n",
    "        if question.lower() == \"done\":\n",
    "            break\n",
    "        options = []\n",
    "        for i in [\"A\", \"B\", \"C\", \"D\"]:\n",
    "            option = input(f\"Enter option {i}: \")\n",
    "            options.append(f\"{i}.{option}\")\n",
    "        answer = input(\"Enter the correct answer (A, B, C, or D): \").strip().upper()\n",
    "        if answer in [\"A\", \"B\", \"C\", \"D\"]:\n",
    "            quiz_questions[question] = {\"options\": options, \"answer\": answer}\n",
    "            print(\"✅ Question added!\\n\")\n",
    "        else:\n",
    "            print(\"❌ Invalid answer. Please use A, B, C, or D.\\n\")\n",
    "\n",
    "            "
   ]
  },
  {
   "cell_type": "code",
   "execution_count": 3,
   "id": "72667b09-bb00-438d-925d-222353f693d8",
   "metadata": {},
   "outputs": [],
   "source": [
    "\n",
    "# Function to loop through the quiz questions and grade them based on user answers\n",
    "def run_quiz():\n",
    "    print(\"\\n🧠 Welcome to the quiz!\\nType A, B, C, or D to answer each question.\")\n",
    "    score = 0\n",
    "    total = len(quiz_questions)\n",
    "    \n",
    "    for question, details in quiz_questions.items():\n",
    "        print(\"\\n\" + question)\n",
    "        for option in details[\"options\"]:\n",
    "            print(option)\n",
    "            \n",
    "        answer = input(\"Your answer: \").strip().upper()\n",
    "\n",
    "        if answer == details[\"answer\"]:\n",
    "            print(\"✅ Correct!\")\n",
    "            score += 1\n",
    "        else:\n",
    "            correct_option = next((opt for opt in details[\"options\"] if opt.startswith(details[\"answer\"])), \"Unknown\")\n",
    "            print(f\"❌ Incorrect. The correct answer is {details['answer']}.\")\n",
    "            \n",
    "    print(f\"\\n🏁 Quiz Complete! Your final score is {score}/{total}\")\n",
    "    return score, total\n",
    "\n",
    "    "
   ]
  },
  {
   "cell_type": "code",
   "execution_count": 4,
   "id": "5e36d2c2-e3b5-4a97-8f17-87a17170dd89",
   "metadata": {},
   "outputs": [],
   "source": [
    "\n",
    "from datetime import datetime\n",
    "\n",
    "# Function to allow users to save their name and score in a text file.\n",
    "def save_score(name, score, total):\n",
    "    if not name.strip():\n",
    "        name = \"Anonymous\"  # Fallback in case someone just presses Enter\n",
    "        \n",
    "    now = datetime.now().strftime(\"%Y-%m-%d %H:%M:%S\")\n",
    "    \n",
    "    with open(\"quiz_scores.txt\", \"a\") as file:\n",
    "        file.write(f\"{now} - {name}: {score}/{total}\\n\")\n",
    "    print(f\"📂 Your score has been saved at {now}!\\n\")      \n",
    "     "
   ]
  },
  {
   "cell_type": "code",
   "execution_count": 5,
   "id": "1d3cd92b-f2a8-4e9c-b492-0d23251e6356",
   "metadata": {},
   "outputs": [],
   "source": [
    "\n",
    "# Define the main program. This function prompts the user to enter their role and, based on the input, allows them to add questions or take the quiz.\n",
    "def main():\n",
    "    print(\"🎉 Welcome to the Quiz Maker and Grader!\")\n",
    "    name = input(\"Enter your name: \").strip()\n",
    "    role = input(\"Enter your role (admin/student): \").strip().lower()\n",
    "\n",
    "    if role == \"admin\":\n",
    "        print(f\"🔓 Admin Access Granted. Hello, {name}!\")\n",
    "        add_q = input(\"Would you like to add your own questions? (yes/no): \").strip().lower()\n",
    "        if add_q == \"yes\":\n",
    "            add_custom_questions()\n",
    "    elif role == \"student\":\n",
    "        print(f\"\\n👏 Hello, {name}! Let's begin your quiz.\")\n",
    "    else:\n",
    "        print(\"❌ Invalid role. Exiting program.\")\n",
    "        return\n",
    "        \n",
    "    score, total = run_quiz()\n",
    "    save_score(name, score, total)\n",
    "            \n",
    "   "
   ]
  },
  {
   "cell_type": "code",
   "execution_count": null,
   "id": "a8c7a965-dbea-4133-a0d2-71c9724023ac",
   "metadata": {},
   "outputs": [
    {
     "name": "stdout",
     "output_type": "stream",
     "text": [
      "🎉 Welcome to the Quiz Maker and Grader!\n"
     ]
    }
   ],
   "source": [
    "if __name__ == \"__main__\":\n",
    "    main()\n",
    "    "
   ]
  },
  {
   "cell_type": "code",
   "execution_count": null,
   "id": "8bfe134e-2298-41c7-b510-c2c97ba2ee1b",
   "metadata": {},
   "outputs": [],
   "source": []
  },
  {
   "cell_type": "code",
   "execution_count": null,
   "id": "c217906e-4862-47ba-a671-c330cc65c0d5",
   "metadata": {},
   "outputs": [],
   "source": []
  }
 ],
 "metadata": {
  "kernelspec": {
   "display_name": "Python 3 (ipykernel)",
   "language": "python",
   "name": "python3"
  },
  "language_info": {
   "codemirror_mode": {
    "name": "ipython",
    "version": 3
   },
   "file_extension": ".py",
   "mimetype": "text/x-python",
   "name": "python",
   "nbconvert_exporter": "python",
   "pygments_lexer": "ipython3",
   "version": "3.12.8"
  }
 },
 "nbformat": 4,
 "nbformat_minor": 5
}
